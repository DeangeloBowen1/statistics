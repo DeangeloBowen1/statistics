{
 "cells": [
  {
   "cell_type": "markdown",
   "id": "13fac35b",
   "metadata": {},
   "source": [
    "# Exercises"
   ]
  },
  {
   "cell_type": "code",
   "execution_count": 1,
   "id": "7ad79a46",
   "metadata": {},
   "outputs": [],
   "source": [
    "import numpy as np\n",
    "import pandas as pd\n",
    "import viz"
   ]
  },
  {
   "cell_type": "markdown",
   "id": "a57b2545",
   "metadata": {},
   "source": [
    "1.) How likely is it that you roll doubles when rolling two dice?"
   ]
  },
  {
   "cell_type": "code",
   "execution_count": 2,
   "id": "3dddd8df",
   "metadata": {
    "scrolled": false
   },
   "outputs": [
    {
     "data": {
      "text/plain": [
       "array([[2, 2],\n",
       "       [5, 2],\n",
       "       [3, 2],\n",
       "       ...,\n",
       "       [3, 6],\n",
       "       [4, 6],\n",
       "       [3, 3]])"
      ]
     },
     "execution_count": 2,
     "metadata": {},
     "output_type": "execute_result"
    }
   ],
   "source": [
    "n_trials = nrows = 10_000\n",
    "n_dice = ncols = 2\n",
    "\n",
    "rolls = np.random.choice([1,2,3,4,5,6], n_trials * n_dice).reshape(nrows, ncols)\n",
    "rolls"
   ]
  },
  {
   "cell_type": "code",
   "execution_count": 3,
   "id": "2de23991",
   "metadata": {},
   "outputs": [
    {
     "data": {
      "text/plain": [
       "array([[2, 5, 3, ..., 3, 4, 3],\n",
       "       [2, 2, 2, ..., 6, 6, 3]])"
      ]
     },
     "execution_count": 3,
     "metadata": {},
     "output_type": "execute_result"
    }
   ],
   "source": [
    "#restting simulations with transpose\n",
    "rolls_transposed = rolls.transpose()\n",
    "rolls_transposed"
   ]
  },
  {
   "cell_type": "code",
   "execution_count": 4,
   "id": "af66410e",
   "metadata": {},
   "outputs": [
    {
     "data": {
      "text/plain": [
       "0.1683"
      ]
     },
     "execution_count": 4,
     "metadata": {},
     "output_type": "execute_result"
    }
   ],
   "source": [
    "(rolls_transposed[0] == rolls_transposed[1]).mean()"
   ]
  },
  {
   "cell_type": "markdown",
   "id": "14930bc8",
   "metadata": {},
   "source": [
    "# Exercise 2"
   ]
  },
  {
   "cell_type": "markdown",
   "id": "eb1e277f",
   "metadata": {},
   "source": [
    "2.) If you flip 8 coins, what is the probability of getting exactly 3 heads? What is the probability of getting more than 3 heads?"
   ]
  },
  {
   "cell_type": "code",
   "execution_count": 5,
   "id": "7db0e757",
   "metadata": {
    "scrolled": true
   },
   "outputs": [
    {
     "data": {
      "text/plain": [
       "array([[0, 1, 1, ..., 1, 0, 1],\n",
       "       [0, 1, 1, ..., 0, 0, 1],\n",
       "       [0, 1, 1, ..., 0, 0, 0],\n",
       "       ...,\n",
       "       [0, 0, 0, ..., 1, 1, 0],\n",
       "       [0, 0, 1, ..., 0, 0, 1],\n",
       "       [0, 1, 0, ..., 0, 1, 1]])"
      ]
     },
     "execution_count": 5,
     "metadata": {},
     "output_type": "execute_result"
    }
   ],
   "source": [
    "# 1 = heads 0 = tales\n",
    "simulation = nrows = 10**5\n",
    "coins_flipped = ncols = 8\n",
    "\n",
    "flips = np.random.choice([0,1], size = (nrows, ncols))\n",
    "flips"
   ]
  },
  {
   "cell_type": "code",
   "execution_count": 6,
   "id": "8ffd7391",
   "metadata": {},
   "outputs": [
    {
     "data": {
      "text/plain": [
       "array([6, 5, 4, ..., 3, 2, 5])"
      ]
     },
     "execution_count": 6,
     "metadata": {},
     "output_type": "execute_result"
    }
   ],
   "source": [
    "# sum of how many times 1 (heads) was landed on in a row\n",
    "# this is done by using 0 and 1 for example:\n",
    "# if it lands on heads (1) and then tails (0)\n",
    "# it adds 1 + 0 = 1 (out of 2 columns).\n",
    "# this is continued until the ncols (number of columns) 8 is reached\n",
    "\n",
    "flip_action = flips.sum(axis = 1)\n",
    "flip_action"
   ]
  },
  {
   "cell_type": "code",
   "execution_count": 7,
   "id": "a29f630d",
   "metadata": {},
   "outputs": [
    {
     "data": {
      "text/plain": [
       "0.21726"
      ]
     },
     "execution_count": 7,
     "metadata": {},
     "output_type": "execute_result"
    }
   ],
   "source": [
    "# exactly 3 heads\n",
    "flipped_heads = flip_action == 3\n",
    "flipped_heads.mean()"
   ]
  },
  {
   "cell_type": "code",
   "execution_count": 8,
   "id": "7ff00584",
   "metadata": {
    "scrolled": true
   },
   "outputs": [
    {
     "data": {
      "text/plain": [
       "0.63707"
      ]
     },
     "execution_count": 8,
     "metadata": {},
     "output_type": "execute_result"
    }
   ],
   "source": [
    "# more than 3 heads/3 or more heads\n",
    "extra_flipped_heads = flip_action > 3\n",
    "extra_flipped_heads.mean()"
   ]
  },
  {
   "cell_type": "markdown",
   "id": "42f70876",
   "metadata": {},
   "source": [
    "# Exercise 3"
   ]
  },
  {
   "cell_type": "markdown",
   "id": "b3bf154d",
   "metadata": {},
   "source": [
    "There are approximitely 3 web development cohorts for every 1 data science cohort at Codeup. Assuming that Codeup randomly selects an alumni to put on a billboard, what are the odds that the two billboards I drive past both have data science students on them?"
   ]
  },
  {
   "cell_type": "code",
   "execution_count": 91,
   "id": "52c437ab",
   "metadata": {},
   "outputs": [],
   "source": [
    "# datascience alumni = 0 web devs = 1\n",
    "two_billboards = nrows = 2\n",
    "simulations = 10_000\n",
    "\n",
    "# 4 split 4 ways. Each number is independent\n",
    "ds_probability = 0.25\n",
    "webdev_probability = 0.75\n"
   ]
  },
  {
   "cell_type": "code",
   "execution_count": 92,
   "id": "f27c7b88",
   "metadata": {},
   "outputs": [],
   "source": [
    "first_billboard = np.random.choice([0,1], size = (simulations, two_billboards),\n",
    "                                   p=[webdev_probability, ds_probability])\n",
    "\n",
    "second_billboard = np.random.choice([0,1], size = (simulations, two_billboards),\n",
    "                                   p=[webdev_probability, ds_probability])\n"
   ]
  },
  {
   "cell_type": "code",
   "execution_count": 96,
   "id": "52720878",
   "metadata": {
    "scrolled": true
   },
   "outputs": [
    {
     "data": {
      "text/plain": [
       "0.5625"
      ]
     },
     "execution_count": 96,
     "metadata": {},
     "output_type": "execute_result"
    }
   ],
   "source": [
    "data = (first_billboard == [0,0]) & (second_billboard == [0,0])\n",
    "data.mean()"
   ]
  },
  {
   "cell_type": "markdown",
   "id": "4c2a5aaa",
   "metadata": {},
   "source": [
    "# Exercise 4"
   ]
  },
  {
   "cell_type": "markdown",
   "id": "868de982",
   "metadata": {},
   "source": [
    "Codeup students buy, on average, 3 poptart packages with a standard deviation of 1.5 a day from the snack vending machine. If on monday the machine is restocked with 17 poptart packages, how likely is it that I will be able to buy some poptarts on Friday afternoon? (Remember, if you have mean and standard deviation, use the np.random.normal)"
   ]
  },
  {
   "cell_type": "code",
   "execution_count": 104,
   "id": "d0f84cff",
   "metadata": {
    "scrolled": true
   },
   "outputs": [
    {
     "data": {
      "text/plain": [
       "array([[ 0.,  3.,  3.,  1.,  3.],\n",
       "       [ 5.,  4.,  4., -0.,  0.],\n",
       "       [ 4.,  2.,  1.,  5.,  3.],\n",
       "       ...,\n",
       "       [ 4.,  2.,  3.,  4.,  2.],\n",
       "       [ 3.,  5.,  4.,  3.,  5.],\n",
       "       [ 4.,  3.,  2.,  4.,  2.]])"
      ]
     },
     "execution_count": 104,
     "metadata": {},
     "output_type": "execute_result"
    }
   ],
   "source": [
    "# loc for avg and scale for stddev\n",
    "\n",
    "n_simulations = n_rows = 10_000\n",
    "n_days = n_columns = 5\n",
    "\n",
    "simulation = np.random.normal(loc = 3, scale = 1.5, size = (n_rows, n_columns)).round()\n",
    "simulation = np.where(simulation < 0, 0, simulation)\n",
    "simulation "
   ]
  },
  {
   "cell_type": "code",
   "execution_count": 105,
   "id": "fedc1715",
   "metadata": {},
   "outputs": [
    {
     "data": {
      "text/plain": [
       "array([10., 13., 15., ..., 15., 20., 15.])"
      ]
     },
     "execution_count": 105,
     "metadata": {},
     "output_type": "execute_result"
    }
   ],
   "source": [
    "num_of_poptarts = simulation.sum(axis = 1)\n",
    "num_of_poptarts"
   ]
  },
  {
   "cell_type": "code",
   "execution_count": 106,
   "id": "4048726c",
   "metadata": {},
   "outputs": [
    {
     "data": {
      "text/plain": [
       "0.6721"
      ]
     },
     "execution_count": 106,
     "metadata": {},
     "output_type": "execute_result"
    }
   ],
   "source": [
    "if_poparts_avail = num_of_poptarts < 17\n",
    "if_poparts_avail.mean()"
   ]
  },
  {
   "cell_type": "markdown",
   "id": "5f25b4a3",
   "metadata": {},
   "source": [
    "# Exercise 5"
   ]
  },
  {
   "cell_type": "markdown",
   "id": "053320f7",
   "metadata": {},
   "source": [
    "Compare Heights : \n",
    "- Men have an average height of 178 cm and standard deviation of 8cm.\n",
    "- Women have a mean of 170, sd = 6cm.\n",
    "- Since you have means and standard deviations, you can use np.random.normal to generate observations.\n",
    "- If a man and woman are chosen at random, P(woman taller than man)?"
   ]
  },
  {
   "cell_type": "code",
   "execution_count": 44,
   "id": "c6cfaf5a",
   "metadata": {},
   "outputs": [],
   "source": [
    "n_simulations= nrows = 10_000\n",
    "m_height = np.random.normal(loc = 178, scale = 8, size = nrows)\n",
    "f_height = np.random.normal(loc = 170, scale = 6, size = nrows)"
   ]
  },
  {
   "cell_type": "code",
   "execution_count": 63,
   "id": "4f71119a",
   "metadata": {
    "scrolled": true
   },
   "outputs": [
    {
     "data": {
      "text/plain": [
       "0.2094"
      ]
     },
     "execution_count": 63,
     "metadata": {},
     "output_type": "execute_result"
    }
   ],
   "source": [
    "female_taller_than_male = f_height > m_height\n",
    "female_taller_than_male.mean()"
   ]
  },
  {
   "cell_type": "markdown",
   "id": "d6537fea",
   "metadata": {},
   "source": [
    "# Exercise 6"
   ]
  },
  {
   "cell_type": "markdown",
   "id": "3c11c94d",
   "metadata": {},
   "source": [
    "When installing anaconda on a student's computer, there's a 1 in 250 chance that the download is corrupted and the installation fail:\n",
    "\n",
    "- What are the odds that after having 50 students download anaconda, no one has an installation issue? 100 students?"
   ]
  },
  {
   "cell_type": "code",
   "execution_count": 110,
   "id": "be9b9676",
   "metadata": {},
   "outputs": [],
   "source": [
    "n_simulations = n_rows = 10_000\n",
    "n_students = n_columns = 50 \n",
    "\n",
    "failed_install = np.random.choice([1,0], size = (n_rows, n_columns), p=[1/250, 249/250])"
   ]
  },
  {
   "cell_type": "code",
   "execution_count": 111,
   "id": "7f489c20",
   "metadata": {},
   "outputs": [
    {
     "data": {
      "text/plain": [
       "0.8256"
      ]
     },
     "execution_count": 111,
     "metadata": {},
     "output_type": "execute_result"
    }
   ],
   "source": [
    "no_fails = failed_install.sum(axis = 1) < 1\n",
    "no_fails.mean()"
   ]
  },
  {
   "cell_type": "markdown",
   "id": "f5dd39b5",
   "metadata": {},
   "source": [
    "- 100 students?"
   ]
  },
  {
   "cell_type": "code",
   "execution_count": 112,
   "id": "50005d3e",
   "metadata": {},
   "outputs": [
    {
     "data": {
      "text/plain": [
       "0.6681"
      ]
     },
     "execution_count": 112,
     "metadata": {},
     "output_type": "execute_result"
    }
   ],
   "source": [
    "n_simulations = n_rows = 10_000\n",
    "n_students = new_columns = 100\n",
    "\n",
    "failed_install = np.random.choice([1,0], size = (n_rows, new_columns), p=[1/250, 249/250])\n",
    "no_fails = failed_install.sum(axis = 1) < 1\n",
    "no_fails.mean()"
   ]
  },
  {
   "cell_type": "markdown",
   "id": "d34586e6",
   "metadata": {},
   "source": [
    "- What is the probability that we observe an installation issue within the first 150 students that download anaconda?"
   ]
  },
  {
   "cell_type": "code",
   "execution_count": 113,
   "id": "b988c1ab",
   "metadata": {},
   "outputs": [
    {
     "data": {
      "text/plain": [
       "0.4552"
      ]
     },
     "execution_count": 113,
     "metadata": {},
     "output_type": "execute_result"
    }
   ],
   "source": [
    "n_simulations = n_rows = 10_000\n",
    "n_students = new_columns = 150\n",
    "\n",
    "failed_install = np.random.choice([1,0], size = (n_rows, new_columns), p=[1/250, 249/250])\n",
    "no_fails = failed_install.sum(axis = 1) > 0\n",
    "no_fails.mean()"
   ]
  },
  {
   "cell_type": "markdown",
   "id": "5a1826e4",
   "metadata": {},
   "source": [
    "- How likely is it that 450 students all download anaconda without an issue?"
   ]
  },
  {
   "cell_type": "code",
   "execution_count": 114,
   "id": "708d6d1d",
   "metadata": {},
   "outputs": [
    {
     "data": {
      "text/plain": [
       "0.1639"
      ]
     },
     "execution_count": 114,
     "metadata": {},
     "output_type": "execute_result"
    }
   ],
   "source": [
    "n_simulations = n_rows = 10_000\n",
    "n_students = new_columns = 450\n",
    "\n",
    "failed_install = np.random.choice([1,0], size = (n_rows, new_columns), p=[1/250, 249/250])\n",
    "no_fails = failed_install.sum(axis = 1) < 1\n",
    "no_fails.mean()"
   ]
  },
  {
   "cell_type": "markdown",
   "id": "c15bee51",
   "metadata": {},
   "source": [
    "# Exercise 7"
   ]
  },
  {
   "cell_type": "markdown",
   "id": "d246dac4",
   "metadata": {},
   "source": [
    "There's a 70% chance on any given day that there will be at least one food truck at Travis Park. However, you haven't seen a food truck there in 3 days. How unlikely is this?\n",
    "\n",
    "How likely is it that a food truck will show up sometime this week?"
   ]
  },
  {
   "cell_type": "code",
   "execution_count": 116,
   "id": "c8b8fcbb",
   "metadata": {},
   "outputs": [
    {
     "data": {
      "text/plain": [
       "0.0268"
      ]
     },
     "execution_count": 116,
     "metadata": {},
     "output_type": "execute_result"
    }
   ],
   "source": [
    "nrows = 10_000\n",
    "ncols = 3\n",
    "\n",
    "trucks = np.random.choice([1,0], size =(nrows, ncols), p =[0.7, 0.3])\n",
    "(trucks.sum(axis=1)==0).mean()"
   ]
  },
  {
   "cell_type": "code",
   "execution_count": 118,
   "id": "0518c107",
   "metadata": {},
   "outputs": [
    {
     "data": {
      "text/plain": [
       "0.9115"
      ]
     },
     "execution_count": 118,
     "metadata": {},
     "output_type": "execute_result"
    }
   ],
   "source": [
    "ncols = 2\n",
    "\n",
    "trucks = np.random.choice([1,0], size = (nrows, ncols), p=[0.7,0.3])\n",
    "(trucks.sum(axis=1)>0).mean()"
   ]
  },
  {
   "cell_type": "markdown",
   "id": "f4610f99",
   "metadata": {},
   "source": [
    "# Exercise 8"
   ]
  },
  {
   "cell_type": "markdown",
   "id": "6afab375",
   "metadata": {},
   "source": [
    "If 23 people are in the same room, what are the odds that two of them share a birthday? What if it's 20 people? 40?"
   ]
  }
 ],
 "metadata": {
  "kernelspec": {
   "display_name": "Python 3 (ipykernel)",
   "language": "python",
   "name": "python3"
  },
  "language_info": {
   "codemirror_mode": {
    "name": "ipython",
    "version": 3
   },
   "file_extension": ".py",
   "mimetype": "text/x-python",
   "name": "python",
   "nbconvert_exporter": "python",
   "pygments_lexer": "ipython3",
   "version": "3.9.7"
  }
 },
 "nbformat": 4,
 "nbformat_minor": 5
}
