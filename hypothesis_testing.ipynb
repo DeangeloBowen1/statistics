{
 "cells": [
  {
   "cell_type": "markdown",
   "id": "99405d04",
   "metadata": {},
   "source": [
    "# Exercises"
   ]
  },
  {
   "cell_type": "markdown",
   "id": "ced53eb5",
   "metadata": {},
   "source": [
    "*For each of the following questions, formulate a null and alternative hypothesis (be as specific as you can be), then give an example of what a true positive, true negative, type I and type II errors would look like. Note that some of the questions are intentionally phrased in a vague way. It is your job to reword these as more precise questions that could be tested.*"
   ]
  },
  {
   "cell_type": "markdown",
   "id": "b75808b5",
   "metadata": {},
   "source": [
    "# Has the network latency gone up since we switched internet service providers?"
   ]
  },
  {
   "cell_type": "markdown",
   "id": "0c79ab59",
   "metadata": {},
   "source": [
    "H0 : No, network latency has not changed, or it has decreased since we switched internet service providers\n"
   ]
  },
  {
   "cell_type": "markdown",
   "id": "ee6e9cd6",
   "metadata": {},
   "source": [
    "Ha: Yes, network latency has change since we've switched internet service providers."
   ]
  },
  {
   "cell_type": "markdown",
   "id": "4fd895b5",
   "metadata": {},
   "source": [
    "True Positive : I formulate that the network latency has increased since we switched internet services due to my hypothesis , and this is most evidently true. "
   ]
  },
  {
   "cell_type": "markdown",
   "id": "9f8fa246",
   "metadata": {},
   "source": [
    "True Negative : All hypothesis lead to the conclusion that the current latency has not increased, has decreasaed, or is the same as the internet service providers previous. "
   ]
  },
  {
   "cell_type": "markdown",
   "id": "cf2b2399",
   "metadata": {},
   "source": [
    "Type I Error: I reject the null hypothesis by concluding that there is an increase in latency since we've switched internet service providers, when the latency has not increased. "
   ]
  },
  {
   "cell_type": "markdown",
   "id": "695d3386",
   "metadata": {},
   "source": [
    "Type II Error: I fail to reject the null hypothesis as I conclude that there is not an increase in network latency since we switched internet service providers. The latency is the same or worse. When actually, it has increased. "
   ]
  },
  {
   "cell_type": "markdown",
   "id": "80de2114",
   "metadata": {},
   "source": [
    "# Is the website redesign any good?\n",
    "\n",
    "potential testable outcomes :\n",
    " - website traffic/users\n",
    "     - number of clicks\n",
    "     - number of active users on the website "
   ]
  },
  {
   "cell_type": "markdown",
   "id": "606b40ea",
   "metadata": {},
   "source": [
    "H0 : Since the website redesign there has not been a increase number of clicks, users, or overall website traffic. "
   ]
  },
  {
   "cell_type": "markdown",
   "id": "24687553",
   "metadata": {},
   "source": [
    "Ha:  The website redesign has increased website traffic in comparison to the previous website design, with increased number of clicks and/or number of active users.\n",
    "\n",
    "or as simple as: \n",
    "\n",
    "*There has been an increase in daily website visits since deploying the redesigned website*"
   ]
  },
  {
   "cell_type": "markdown",
   "id": "9fb68372",
   "metadata": {},
   "source": [
    "True Positive (Alternative Hypothesis is True) : The website redesign has shown strong correlation to increase in number of clicks or overall website traffic, at any time on any day. "
   ]
  },
  {
   "cell_type": "markdown",
   "id": "3301ecc6",
   "metadata": {},
   "source": [
    "True Negative : The website redesign has shown no correlation to increase in number of clicks or overall website traffic, at any time on any day. "
   ]
  },
  {
   "cell_type": "markdown",
   "id": "4fc2ff2d",
   "metadata": {},
   "source": [
    "Type I Error : I determine that the website redesign has increased website traffic when it actually has decreased or stayed the same."
   ]
  },
  {
   "cell_type": "markdown",
   "id": "ad7c16c0",
   "metadata": {},
   "source": [
    "Type II Error : I determine that the website traffic hasn't changed or has decreased when it actually has increased."
   ]
  },
  {
   "cell_type": "markdown",
   "id": "bb4d3a89",
   "metadata": {},
   "source": [
    " # Is our television ad driving more sales?"
   ]
  },
  {
   "cell_type": "markdown",
   "id": "7bb7c862",
   "metadata": {},
   "source": [
    "Potential testing outcomes:\n",
    " - num of views\n",
    " - customers\n",
    "     - agg. : num of customers corr. w/ num of views since tv ad"
   ]
  },
  {
   "cell_type": "markdown",
   "id": "c524e367",
   "metadata": {},
   "source": [
    "H0 : Sales volume is not greater with the new ad"
   ]
  },
  {
   "cell_type": "markdown",
   "id": "06dffac9",
   "metadata": {},
   "source": [
    "Ha: Sales volume is greater with the new ad"
   ]
  },
  {
   "cell_type": "markdown",
   "id": "74528ecb",
   "metadata": {},
   "source": [
    " - True positive : I determine that the sales volume has increased and it has."
   ]
  },
  {
   "cell_type": "markdown",
   "id": "4ffb0cc1",
   "metadata": {},
   "source": [
    " - True Negative : I determine that the sales volume has stayed the same or decreased and it has."
   ]
  },
  {
   "cell_type": "markdown",
   "id": "fc04c775",
   "metadata": {},
   "source": [
    " - Type 1 Error : I determine that the sales volume has increased when it has actually decreased ir stayed the same."
   ]
  },
  {
   "cell_type": "markdown",
   "id": "e6e41bd9",
   "metadata": {},
   "source": [
    " - Type 2 Error : I determine that the sales volume has decreased or stayed the same when it has actually increased. "
   ]
  },
  {
   "cell_type": "markdown",
   "id": "c41e4321",
   "metadata": {},
   "source": [
    "*Note : within your null and alternative hypothesis you MUST capture all possible outcomes*"
   ]
  }
 ],
 "metadata": {
  "kernelspec": {
   "display_name": "Python 3 (ipykernel)",
   "language": "python",
   "name": "python3"
  },
  "language_info": {
   "codemirror_mode": {
    "name": "ipython",
    "version": 3
   },
   "file_extension": ".py",
   "mimetype": "text/x-python",
   "name": "python",
   "nbconvert_exporter": "python",
   "pygments_lexer": "ipython3",
   "version": "3.9.7"
  }
 },
 "nbformat": 4,
 "nbformat_minor": 5
}
