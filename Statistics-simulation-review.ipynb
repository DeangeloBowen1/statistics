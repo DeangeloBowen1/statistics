{
 "cells": [
  {
   "cell_type": "code",
   "execution_count": 14,
   "id": "dab87f90",
   "metadata": {},
   "outputs": [],
   "source": [
    "%matplotlib inline\n",
    "import numpy as np\n",
    "import pandas as pd\n",
    "\n",
    "import viz # curriculum example visualizations\n",
    "\n",
    "np.random.seed(29)\n"
   ]
  },
  {
   "cell_type": "markdown",
   "id": "b25c2087",
   "metadata": {},
   "source": [
    "# Generating Random Numbers with Numpy\n",
    "\n",
    "The numpy.random module provides a number of functions for generating random numbers.\n",
    "\n",
    "- np.random.choice: selects random options from a list\n",
    "- np.random.uniform: generates numbers between a given lower and upper bound\n",
    "- np.random.random: generates numbers between 0 and 1\n",
    "- np.random.randn: generates numbers from the standard normal distribution\n",
    "- np.random.normal: generates numbers from a normal distribution with a specified mean and standard deviation\n",
    "- Example Problems\n",
    "\n",
    "## Carnival Dice Rolls\n",
    "\n",
    "You are at a carnival and come across a person in a booth offering you a game of \"chance\" (as people in booths at carnivals tend to do).\n",
    "\n",
    "You pay 5 dollars and roll 3 dice. If the sum of the dice rolls is greater than 12, you get 15 dollars. If it's less than or equal to 12, you get nothing.\n",
    "\n",
    "Assuming the dice are fair, should you play this game? How would this change if the winning condition was a sum greater than or equal to 12?\n",
    "\n",
    "To simulate this problem, we'll write the python code to simulate the scenario described above, then repeat it a large amount of times.\n",
    "\n",
    "One way we can keep track of all the simulations is to use a 2-dimensional matrix. We can create a matrix where each row represents one \"trial\". Each row will have 3 columns, representing the 3 dice rolls."
   ]
  },
  {
   "cell_type": "code",
   "execution_count": 15,
   "id": "b9ce7220",
   "metadata": {
    "scrolled": true
   },
   "outputs": [
    {
     "data": {
      "text/plain": [
       "array([[6, 4, 5],\n",
       "       [6, 3, 1],\n",
       "       [1, 2, 2],\n",
       "       ...,\n",
       "       [6, 2, 1],\n",
       "       [3, 4, 3],\n",
       "       [4, 2, 4]])"
      ]
     },
     "execution_count": 15,
     "metadata": {},
     "output_type": "execute_result"
    }
   ],
   "source": [
    "n_trials = nrows = 10_000\n",
    "n_dice = ncols = 3\n",
    "\n",
    "rolls = np.random.choice([1, 2, 3, 4, 5, 6], n_trials * n_dice).reshape(nrows, ncols)\n",
    "rolls\n"
   ]
  },
  {
   "cell_type": "markdown",
   "id": "5eeb9bb0",
   "metadata": {},
   "source": [
    "Here we used the choice function to randomly select an element out of the list of the number 1-6, effectively simulating a dice roll. The second argument supplied to choice is the total number of dice to roll. Once we have generated all the dice rolls, we use the .reshape method to create our matrix with 3 columns and 10,000 rows.\n",
    "\n",
    "Now that we have all of the simulated dice rolls, we want to get the sum of the dice rolls for each trial. To do this, we can use the .sum function and specify that we want the sum of every row (as opposed to the sum of all the numbers, or the sum by column) with the axis key word argument."
   ]
  },
  {
   "cell_type": "code",
   "execution_count": 16,
   "id": "7b43bdad",
   "metadata": {
    "scrolled": true
   },
   "outputs": [
    {
     "data": {
      "text/plain": [
       "array([15, 10,  5, ...,  9, 10, 10])"
      ]
     },
     "execution_count": 16,
     "metadata": {},
     "output_type": "execute_result"
    }
   ],
   "source": [
    "sums_by_trial = rolls.sum(axis=1)\n",
    "sums_by_trial\n"
   ]
  },
  {
   "cell_type": "markdown",
   "id": "03c71c52",
   "metadata": {},
   "source": [
    "Let's pause here for a minute and visualize the data we have:"
   ]
  },
  {
   "cell_type": "code",
   "execution_count": 17,
   "id": "294dc70d",
   "metadata": {
    "scrolled": true
   },
   "outputs": [
    {
     "data": {
      "image/png": "[encoded data removed]",
      "text/plain": [
       "<Figure size 432x288 with 1 Axes>"
      ]
     },
     "metadata": {
      "needs_background": "light"
     },
     "output_type": "display_data"
    }
   ],
   "source": [
    "viz.simulation_example1(sums_by_trial)\n"
   ]
  },
  {
   "cell_type": "markdown",
   "id": "f050ed26",
   "metadata": {},
   "source": [
    "The area shaded in lightblue represents our chance of winning, that is, the number of times that the sum of 3 dice rolls is greater than 12.\n",
    "\n",
    "We can now convert each value in our array to a boolean value indicating whether or not we won:"
   ]
  },
  {
   "cell_type": "code",
   "execution_count": 18,
   "id": "cfc790c6",
   "metadata": {},
   "outputs": [
    {
     "data": {
      "text/plain": [
       "array([ True, False, False, ..., False, False, False])"
      ]
     },
     "execution_count": 18,
     "metadata": {},
     "output_type": "execute_result"
    }
   ],
   "source": [
    "wins = sums_by_trial > 12\n",
    "wins\n"
   ]
  },
  {
   "cell_type": "code",
   "execution_count": 19,
   "id": "a2673b7b",
   "metadata": {},
   "outputs": [
    {
     "data": {
      "text/plain": [
       "2633"
      ]
     },
     "execution_count": 19,
     "metadata": {},
     "output_type": "execute_result"
    }
   ],
   "source": [
    "# how many times did we win\n",
    "wins.sum()"
   ]
  },
  {
   "cell_type": "code",
   "execution_count": 20,
   "id": "593f268d",
   "metadata": {},
   "outputs": [
    {
     "data": {
      "text/plain": [
       "(10000,)"
      ]
     },
     "execution_count": 20,
     "metadata": {},
     "output_type": "execute_result"
    }
   ],
   "source": [
    "# how many times did we play?\n",
    "wins.shape"
   ]
  },
  {
   "cell_type": "markdown",
   "id": "300443f2",
   "metadata": {},
   "source": [
    "\n",
    "To calculate an overall win rate, we can treat each win as a 1 and each loss as 0, then take the average of the array:"
   ]
  },
  {
   "cell_type": "code",
   "execution_count": 21,
   "id": "33c53c39",
   "metadata": {},
   "outputs": [
    {
     "data": {
      "text/plain": [
       "0.2633"
      ]
     },
     "execution_count": 21,
     "metadata": {},
     "output_type": "execute_result"
    }
   ],
   "source": [
    "win_rate = wins.astype(int).mean()\n",
    "win_rate\n"
   ]
  },
  {
   "cell_type": "markdown",
   "id": "ec476bc1",
   "metadata": {},
   "source": [
    "Now that we know our win rate, we can calculate the expected profit:"
   ]
  },
  {
   "cell_type": "code",
   "execution_count": 22,
   "id": "6707d52e",
   "metadata": {},
   "outputs": [
    {
     "data": {
      "text/plain": [
       "-1.0505000000000004"
      ]
     },
     "execution_count": 22,
     "metadata": {},
     "output_type": "execute_result"
    }
   ],
   "source": [
    "expected_winnings = win_rate * 15\n",
    "cost = 5\n",
    "expected_profit = expected_winnings - cost\n",
    "expected_profit"
   ]
  },
  {
   "cell_type": "markdown",
   "id": "008751a2",
   "metadata": {},
   "source": [
    "So we would expect, based on our simulations, on average, to lose a little over a dollar everytime we play this game.\n",
    "\n",
    "To answer the last part of the question, we can recalculate our win rate based on the sums being greater than or equal to 12:"
   ]
  },
  {
   "cell_type": "code",
   "execution_count": 23,
   "id": "18415df1",
   "metadata": {},
   "outputs": [
    {
     "data": {
      "text/plain": [
       "0.5860000000000003"
      ]
     },
     "execution_count": 23,
     "metadata": {},
     "output_type": "execute_result"
    }
   ],
   "source": [
    "wins = sums_by_trial >= 12\n",
    "win_rate = wins.astype(int).mean()\n",
    "expected_winnings = win_rate * 15\n",
    "cost = 5\n",
    "expected_profit = expected_winnings - cost\n",
    "expected_profit"
   ]
  },
  {
   "cell_type": "markdown",
   "id": "6c7c3806",
   "metadata": {},
   "source": [
    "if our win con changes to the sum being greater or equal to 12, then, based on our simulations, on average, we expect to walk away with sub .50c"
   ]
  },
  {
   "cell_type": "markdown",
   "id": "986a04ca",
   "metadata": {},
   "source": [
    "# No rest or relaxation\n",
    "There is a 30% chance that my son takes a nap on any given weekend day. What is the chance that he takes a nap at least one day this weekend? No nap at all?"
   ]
  },
  {
   "cell_type": "markdown",
   "id": "01b036c3",
   "metadata": {},
   "source": [
    "Setup:\n",
    "\n",
    "Non-conditional -- if there is a nap one day, it does not affect a nap the next day. They are completely independent."
   ]
  },
  {
   "cell_type": "code",
   "execution_count": 24,
   "id": "bdc470bc",
   "metadata": {},
   "outputs": [],
   "source": [
    "# 10 to the 5th is 10,000 weekends with a 30% chance of something happening. \n",
    "# ndays = weekdays\n",
    "p_nap = .3\n",
    "ndays = ncols = 2\n",
    "n_simulated_weekends = nrows = 10**5"
   ]
  },
  {
   "cell_type": "markdown",
   "id": "b13a8383",
   "metadata": {},
   "source": [
    "To simulate the results from many weekends, we'll create a 2 x 10,000 matrix, with 2 being the number of days in a weekend and 10,000 being the number of simulations we want to run.\n",
    "\n",
    "To determine whether or not a nap is taken on a given day, we'll generate a random number between 0 and 1, and say that it is a nap if it is less than our probability of taking a nap."
   ]
  },
  {
   "cell_type": "code",
   "execution_count": 27,
   "id": "0758dde3",
   "metadata": {},
   "outputs": [
    {
     "data": {
      "text/plain": [
       "array([[0.46386823, 0.21271797],\n",
       "       [0.90376703, 0.62569613],\n",
       "       [0.97665921, 0.4493392 ],\n",
       "       ...,\n",
       "       [0.49547778, 0.69932358],\n",
       "       [0.53464724, 0.26440082],\n",
       "       [0.40316768, 0.71504871]])"
      ]
     },
     "execution_count": 27,
     "metadata": {},
     "output_type": "execute_result"
    }
   ],
   "source": [
    "#　this data takes the nrows and ncols from the setup to randomly generate naps\n",
    "# this is indicated by being above .3\n",
    "data = np.random.random((nrows, ncols))\n",
    "data"
   ]
  },
  {
   "cell_type": "code",
   "execution_count": 28,
   "id": "f872c353",
   "metadata": {
    "scrolled": true
   },
   "outputs": [
    {
     "data": {
      "text/plain": [
       "array([[False,  True],\n",
       "       [False, False],\n",
       "       [False, False],\n",
       "       ...,\n",
       "       [False, False],\n",
       "       [False,  True],\n",
       "       [False, False]])"
      ]
     },
     "execution_count": 28,
     "metadata": {},
     "output_type": "execute_result"
    }
   ],
   "source": [
    "# Now we are generating the true or false booleans\n",
    "naps = data < p_nap\n",
    "naps"
   ]
  },
  {
   "cell_type": "markdown",
   "id": "b1c92b61",
   "metadata": {},
   "source": [
    "Now that we have each day as either true or false, we can take the sum of each row to find the total number of naps for the weekend. When we sum an array of boolean values, numpy will treat True as 1 and False as 0."
   ]
  },
  {
   "cell_type": "code",
   "execution_count": 29,
   "id": "dca33c01",
   "metadata": {
    "scrolled": true
   },
   "outputs": [
    {
     "data": {
      "text/plain": [
       "array([1, 0, 0, ..., 0, 1, 0])"
      ]
     },
     "execution_count": 29,
     "metadata": {},
     "output_type": "execute_result"
    }
   ],
   "source": [
    "naps.sum(axis=1)"
   ]
  },
  {
   "cell_type": "code",
   "execution_count": 33,
   "id": "251b183d",
   "metadata": {},
   "outputs": [
    {
     "data": {
      "text/plain": [
       "array([False,  True])"
      ]
     },
     "execution_count": 33,
     "metadata": {},
     "output_type": "execute_result"
    }
   ],
   "source": [
    "# evaluating our array\n",
    "np.unique(naps)"
   ]
  },
  {
   "cell_type": "code",
   "execution_count": 30,
   "id": "165db3b6",
   "metadata": {
    "scrolled": false
   },
   "outputs": [
    {
     "data": {
      "image/png": "[encoded data removed]",
      "text/plain": [
       "<Figure size 432x288 with 1 Axes>"
      ]
     },
     "metadata": {
      "needs_background": "light"
     },
     "output_type": "display_data"
    }
   ],
   "source": [
    "viz.simulation_example2(naps)"
   ]
  },
  {
   "cell_type": "code",
   "execution_count": 34,
   "id": "f84871c9",
   "metadata": {},
   "outputs": [
    {
     "data": {
      "text/plain": [
       "0.5189"
      ]
     },
     "execution_count": 34,
     "metadata": {},
     "output_type": "execute_result"
    }
   ],
   "source": [
    "(naps.sum(axis=1) >= 1).mean()"
   ]
  },
  {
   "cell_type": "code",
   "execution_count": 35,
   "id": "66f98419",
   "metadata": {},
   "outputs": [
    {
     "data": {
      "text/plain": [
       "0.4811"
      ]
     },
     "execution_count": 35,
     "metadata": {},
     "output_type": "execute_result"
    }
   ],
   "source": [
    "(naps.sum(axis=1) == 0).mean()"
   ]
  },
  {
   "cell_type": "markdown",
   "id": "6cc4fa18",
   "metadata": {},
   "source": [
    "# One With Dataframes"
   ]
  },
  {
   "cell_type": "markdown",
   "id": "15aac3f8",
   "metadata": {},
   "source": [
    "Let's take a look at one more problem:\n",
    "\n",
    "What is the probability of getting at least one 3 in 3 dice rolls?\n",
    "\n",
    "To simulate this, we'll use a similar strategy to how we modeled the dice rolls in the previous example, but this time, we'll store the results in a pandas dataframe so that we can apply a lambda function that will check to see if one of the rolls was a 3."
   ]
  },
  {
   "cell_type": "code",
   "execution_count": 44,
   "id": "e5e77ffb",
   "metadata": {
    "scrolled": true
   },
   "outputs": [
    {
     "data": {
      "text/html": [
       "<div>\n",
       "<style scoped>\n",
       "    .dataframe tbody tr th:only-of-type {\n",
       "        vertical-align: middle;\n",
       "    }\n",
       "\n",
       "    .dataframe tbody tr th {\n",
       "        vertical-align: top;\n",
       "    }\n",
       "\n",
       "    .dataframe thead th {\n",
       "        text-align: right;\n",
       "    }\n",
       "</style>\n",
       "<table border=\"1\" class=\"dataframe\">\n",
       "  <thead>\n",
       "    <tr style=\"text-align: right;\">\n",
       "      <th></th>\n",
       "      <th>0</th>\n",
       "      <th>1</th>\n",
       "      <th>2</th>\n",
       "      <th>has_at_least_one_three</th>\n",
       "    </tr>\n",
       "  </thead>\n",
       "  <tbody>\n",
       "    <tr>\n",
       "      <th>1</th>\n",
       "      <td>3</td>\n",
       "      <td>4</td>\n",
       "      <td>5</td>\n",
       "      <td>True</td>\n",
       "    </tr>\n",
       "    <tr>\n",
       "      <th>4</th>\n",
       "      <td>6</td>\n",
       "      <td>1</td>\n",
       "      <td>3</td>\n",
       "      <td>True</td>\n",
       "    </tr>\n",
       "    <tr>\n",
       "      <th>5</th>\n",
       "      <td>2</td>\n",
       "      <td>5</td>\n",
       "      <td>3</td>\n",
       "      <td>True</td>\n",
       "    </tr>\n",
       "    <tr>\n",
       "      <th>6</th>\n",
       "      <td>1</td>\n",
       "      <td>3</td>\n",
       "      <td>3</td>\n",
       "      <td>True</td>\n",
       "    </tr>\n",
       "    <tr>\n",
       "      <th>8</th>\n",
       "      <td>4</td>\n",
       "      <td>3</td>\n",
       "      <td>6</td>\n",
       "      <td>True</td>\n",
       "    </tr>\n",
       "    <tr>\n",
       "      <th>...</th>\n",
       "      <td>...</td>\n",
       "      <td>...</td>\n",
       "      <td>...</td>\n",
       "      <td>...</td>\n",
       "    </tr>\n",
       "    <tr>\n",
       "      <th>99991</th>\n",
       "      <td>3</td>\n",
       "      <td>3</td>\n",
       "      <td>5</td>\n",
       "      <td>True</td>\n",
       "    </tr>\n",
       "    <tr>\n",
       "      <th>99992</th>\n",
       "      <td>2</td>\n",
       "      <td>3</td>\n",
       "      <td>6</td>\n",
       "      <td>True</td>\n",
       "    </tr>\n",
       "    <tr>\n",
       "      <th>99996</th>\n",
       "      <td>1</td>\n",
       "      <td>3</td>\n",
       "      <td>6</td>\n",
       "      <td>True</td>\n",
       "    </tr>\n",
       "    <tr>\n",
       "      <th>99997</th>\n",
       "      <td>3</td>\n",
       "      <td>3</td>\n",
       "      <td>5</td>\n",
       "      <td>True</td>\n",
       "    </tr>\n",
       "    <tr>\n",
       "      <th>99999</th>\n",
       "      <td>4</td>\n",
       "      <td>3</td>\n",
       "      <td>2</td>\n",
       "      <td>True</td>\n",
       "    </tr>\n",
       "  </tbody>\n",
       "</table>\n",
       "<p>42276 rows × 4 columns</p>\n",
       "</div>"
      ],
      "text/plain": [
       "       0  1  2  has_at_least_one_three\n",
       "1      3  4  5                    True\n",
       "4      6  1  3                    True\n",
       "5      2  5  3                    True\n",
       "6      1  3  3                    True\n",
       "8      4  3  6                    True\n",
       "...   .. .. ..                     ...\n",
       "99991  3  3  5                    True\n",
       "99992  2  3  6                    True\n",
       "99996  1  3  6                    True\n",
       "99997  3  3  5                    True\n",
       "99999  4  3  2                    True\n",
       "\n",
       "[42276 rows x 4 columns]"
      ]
     },
     "execution_count": 44,
     "metadata": {},
     "output_type": "execute_result"
    }
   ],
   "source": [
    "n_simulations = nrows = 10**5\n",
    "n_dice_rolled = ncols = 3\n",
    "\n",
    "rolls = np.random.choice([1, 2, 3, 4, 5, 6], nrows * ncols).reshape(nrows, ncols)\n",
    "\n",
    "rolls = pd.DataFrame(rolls)\n",
    "rolls[\"has_at_least_one_three\"] = rolls.apply(lambda row: 3 in row.values, axis=1)\n",
    "rolls[rolls.has_at_least_one_three]"
   ]
  },
  {
   "cell_type": "code",
   "execution_count": 45,
   "id": "86de40aa",
   "metadata": {},
   "outputs": [
    {
     "data": {
      "text/plain": [
       "0.42276"
      ]
     },
     "execution_count": 45,
     "metadata": {},
     "output_type": "execute_result"
    }
   ],
   "source": [
    "rolls[\"has_at_least_one_three\"] = rolls.apply(lambda row: 3 in row.values, axis=1)\n",
    "rolls.has_at_least_one_three.mean()"
   ]
  },
  {
   "cell_type": "markdown",
   "id": "5f769b2b",
   "metadata": {},
   "source": [
    "Let's break down what's going on here:\n",
    "\n",
    "- First we assign values for the number of rows and columns we are going to use\n",
    "\n",
    "- Next we create the rolls variable that holds a 3 x 10,000 matrix where each element is a randomly chosen number from 1 to 6\n",
    "\n",
    "- Lastly we create a dataframe from the rolls\n",
    "    - pd.DataFrame(rolls) converts our 2d numpy matrix to a pandas DataFrame\n",
    "\n",
    "    - .apply(... applies a function to each row in our dataframe, because we specified axis=1, the function will be called with each row as it's argument. The body of the function checks to see if the value 3 is in the values of the row, and will return either True or False\n",
    "    \n",
    "    - .mean() takes our resulting series of boolean values, and treats True as 1 and False as 0, to give us the average rate of Trues, in this case, the simulated probability of getting a 3 in 3 dice rolls."
   ]
  },
  {
   "cell_type": "code",
   "execution_count": null,
   "id": "6bd26cfe",
   "metadata": {},
   "outputs": [],
   "source": []
  }
 ],
 "metadata": {
  "kernelspec": {
   "display_name": "Python 3 (ipykernel)",
   "language": "python",
   "name": "python3"
  },
  "language_info": {
   "codemirror_mode": {
    "name": "ipython",
    "version": 3
   },
   "file_extension": ".py",
   "mimetype": "text/x-python",
   "name": "python",
   "nbconvert_exporter": "python",
   "pygments_lexer": "ipython3",
   "version": "3.9.7"
  }
 },
 "nbformat": 4,
 "nbformat_minor": 5
}
